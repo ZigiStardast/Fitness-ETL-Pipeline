{
 "cells": [
  {
   "cell_type": "code",
   "execution_count": 11,
   "id": "e35afe05-6f6b-4a7d-95d9-8e73fe0f73af",
   "metadata": {},
   "outputs": [
    {
     "data": {
      "text/plain": [
       "'C:/tools/spark-3.3.2-bin-hadoop3'"
      ]
     },
     "execution_count": 11,
     "metadata": {},
     "output_type": "execute_result"
    }
   ],
   "source": [
    "import findspark \n",
    "\n",
    "findspark.init()\n",
    "findspark.find()"
   ]
  },
  {
   "cell_type": "code",
   "execution_count": 12,
   "id": "3fcfa56b-0991-48f5-a3fd-53cc21863078",
   "metadata": {},
   "outputs": [],
   "source": [
    "import pyspark\n",
    "from pyspark.sql import SparkSession"
   ]
  },
  {
   "cell_type": "code",
   "execution_count": 13,
   "id": "0fffcd31-0ad2-483d-8181-275725638029",
   "metadata": {},
   "outputs": [],
   "source": [
    "spark.conf.set(\"spark.sql.legacy.timeParserPolicy\", \"LEGACY\")"
   ]
  },
  {
   "cell_type": "code",
   "execution_count": 14,
   "id": "63ef26dd-9ad9-400e-b723-d58972c77e38",
   "metadata": {},
   "outputs": [],
   "source": [
    "spark = SparkSession.builder \\\n",
    "    .master('local[*]') \\\n",
    "    .appName(\"spark_session\") \\\n",
    "    .getOrCreate()"
   ]
  },
  {
   "cell_type": "code",
   "execution_count": 15,
   "id": "5a142d29-651d-4c37-a52a-320fe4107b05",
   "metadata": {},
   "outputs": [],
   "source": [
    "parsed_data = \"parsed_data_daily_activity.csv\""
   ]
  },
  {
   "cell_type": "code",
   "execution_count": 16,
   "id": "a2e9bc11-4775-48db-a5bc-48ba9c7a7731",
   "metadata": {},
   "outputs": [],
   "source": [
    "spark_df = spark.read.csv(parsed_data,\n",
    "                    header='true',\n",
    "                    inferSchema='true',\n",
    "                    ignoreLeadingWhiteSpace=True,\n",
    "                    ignoreTrailingWhiteSpace=True)"
   ]
  },
  {
   "cell_type": "code",
   "execution_count": 17,
   "id": "9f611fd5-2c71-402a-9ce1-4be194012a1b",
   "metadata": {},
   "outputs": [],
   "source": [
    "from pyspark.sql import functions as F"
   ]
  },
  {
   "cell_type": "code",
   "execution_count": 18,
   "id": "c9c15814-b5b8-47cc-882b-55e8be61d857",
   "metadata": {},
   "outputs": [],
   "source": [
    "spark_df = spark_df.withColumn(\"ActivityDate\", F.to_date(\"ActivityDate\", \"MM/dd/yyyy\"))"
   ]
  },
  {
   "cell_type": "code",
   "execution_count": 19,
   "id": "3a0e71db-9a32-404b-b97b-8ea95f6b1028",
   "metadata": {
    "scrolled": true
   },
   "outputs": [
    {
     "name": "stdout",
     "output_type": "stream",
     "text": [
      "root\n",
      " |-- Id: long (nullable = true)\n",
      " |-- ActivityDate: date (nullable = true)\n",
      " |-- TotalSteps: integer (nullable = true)\n",
      " |-- TotalDistance: double (nullable = true)\n",
      " |-- TrackerDistance: double (nullable = true)\n",
      " |-- LoggedActivitiesDistance: double (nullable = true)\n",
      " |-- VeryActiveDistance: double (nullable = true)\n",
      " |-- ModeratelyActiveDistance: double (nullable = true)\n",
      " |-- LightActiveDistance: double (nullable = true)\n",
      " |-- SedentaryActiveDistance: double (nullable = true)\n",
      " |-- VeryActiveMinutes: integer (nullable = true)\n",
      " |-- FairlyActiveMinutes: integer (nullable = true)\n",
      " |-- LightlyActiveMinutes: integer (nullable = true)\n",
      " |-- SedentaryMinutes: integer (nullable = true)\n",
      " |-- Calories: integer (nullable = true)\n",
      "\n"
     ]
    }
   ],
   "source": [
    "spark_df.printSchema()"
   ]
  },
  {
   "cell_type": "code",
   "execution_count": 51,
   "id": "5ba5bebc-1e0c-471d-997b-866203b13e51",
   "metadata": {},
   "outputs": [],
   "source": [
    "from pyspark.sql.functions import avg, round, desc, col"
   ]
  },
  {
   "cell_type": "code",
   "execution_count": 45,
   "id": "d9dff9cd-9393-464e-856a-69e25da6a452",
   "metadata": {},
   "outputs": [],
   "source": [
    "result_averageByID = spark_df.groupby(\"Id\").agg(\n",
    "    round(avg(\"TotalSteps\"), 3).alias(\"AverageDailySteps\"),\n",
    "    round(avg(\"TotalDistance\"), 3).alias(\"AverageTotalDistance\"),\n",
    "    round(avg(\"Calories\"), 3).alias(\"AverageCalories\"),\n",
    ").orderBy(desc(\"AverageDailySteps\"))"
   ]
  },
  {
   "cell_type": "code",
   "execution_count": 46,
   "id": "96a04e8a-b8da-469c-b212-564d92799700",
   "metadata": {},
   "outputs": [],
   "source": [
    "import pandas as pd\n",
    "pddf = result_averageByID.toPandas()"
   ]
  },
  {
   "cell_type": "code",
   "execution_count": 53,
   "id": "f62c02d5-13f0-4177-a429-52f7fe2f0806",
   "metadata": {},
   "outputs": [],
   "source": [
    "total_minutes = spark_df \\\n",
    ".withColumn(\"TotalMinutes\", col(\"VeryActiveMinutes\") + col(\"FairlyActiveMinutes\") + col(\"LightlyActiveMinutes\") + col(\"SedentaryMinutes\"))"
   ]
  },
  {
   "cell_type": "code",
   "execution_count": 55,
   "id": "ab79e266-d4fc-49aa-bfdb-25a1275908ad",
   "metadata": {},
   "outputs": [],
   "source": [
    "result_activityPercentage = total_minutes.selectExpr(\n",
    "    \"Id\",\n",
    "    \"ActivityDate\",\n",
    "    \"VeryActiveMinutes / TotalMinutes * 100 as VeryActivePercentage\",\n",
    "    \"FairlyActiveMinutes / TotalMinutes * 100 as FairlyActivePercentage\",\n",
    "    \"LightlyActiveMinutes / TotalMinutes * 100 as LightlyActivePercentage\",\n",
    "    \"SedentaryMinutes / TotalMinutes * 100 as SedentaryPercentage\"\n",
    ")"
   ]
  },
  {
   "cell_type": "code",
   "execution_count": null,
   "id": "8b185e9d-8fdc-4c26-9cfa-546377045ae7",
   "metadata": {},
   "outputs": [],
   "source": []
  }
 ],
 "metadata": {
  "kernelspec": {
   "display_name": "Python 3 (ipykernel)",
   "language": "python",
   "name": "python3"
  },
  "language_info": {
   "codemirror_mode": {
    "name": "ipython",
    "version": 3
   },
   "file_extension": ".py",
   "mimetype": "text/x-python",
   "name": "python",
   "nbconvert_exporter": "python",
   "pygments_lexer": "ipython3",
   "version": "3.9.11"
  }
 },
 "nbformat": 4,
 "nbformat_minor": 5
}
